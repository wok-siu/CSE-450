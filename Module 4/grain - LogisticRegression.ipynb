{
  "cells": [
    {
      "cell_type": "code",
      "execution_count": 4,
      "metadata": {
        "id": "yc_apnMQDtFC"
      },
      "outputs": [],
      "source": [
        "import pandas as pd\n",
        "from sklearn.linear_model import LogisticRegressionCV\n",
        "from sklearn.model_selection import train_test_split, RepeatedStratifiedKFold, cross_val_score\n",
        "from sklearn.preprocessing import OneHotEncoder\n",
        "from sklearn.metrics import mean_squared_error, r2_score, accuracy_score\n",
        "import matplotlib.pyplot as plt\n",
        "import seaborn as sns\n",
        "import numpy as np"
      ]
    },
    {
      "cell_type": "code",
      "execution_count": 5,
      "metadata": {
        "id": "mA0HPVmIBT4C"
      },
      "outputs": [],
      "source": [
        "grain = pd.read_csv('https://byui-cse.github.io/cse450-course/ice/grain/data/grain-training.csv')"
      ]
    },
    {
      "cell_type": "code",
      "execution_count": 6,
      "metadata": {
        "colab": {
          "base_uri": "https://localhost:8080/"
        },
        "id": "AlwahK_nDShF",
        "outputId": "7d07f2ba-b1eb-4b22-fc4a-0a4715f102bf"
      },
      "outputs": [
        {
          "name": "stdout",
          "output_type": "stream",
          "text": [
            "<class 'pandas.core.frame.DataFrame'>\n",
            "RangeIndex: 3048 entries, 0 to 3047\n",
            "Data columns (total 8 columns):\n",
            " #   Column             Non-Null Count  Dtype  \n",
            "---  ------             --------------  -----  \n",
            " 0   Area               3048 non-null   int64  \n",
            " 1   Perimeter          3048 non-null   float64\n",
            " 2   Major_Axis_Length  3048 non-null   float64\n",
            " 3   Minor_Axis_Length  3048 non-null   float64\n",
            " 4   Eccentricity       3048 non-null   float64\n",
            " 5   Convex_Area        3048 non-null   int64  \n",
            " 6   Extent             3048 non-null   float64\n",
            " 7   Class              3048 non-null   object \n",
            "dtypes: float64(5), int64(2), object(1)\n",
            "memory usage: 190.6+ KB\n"
          ]
        }
      ],
      "source": [
        "grain.info()"
      ]
    },
    {
      "cell_type": "code",
      "execution_count": 7,
      "metadata": {
        "colab": {
          "base_uri": "https://localhost:8080/",
          "height": 206
        },
        "id": "StiU5QcPPxqQ",
        "outputId": "fee093fd-1357-4946-f405-5ecba83a8bfb"
      },
      "outputs": [
        {
          "data": {
            "text/html": [
              "<div>\n",
              "<style scoped>\n",
              "    .dataframe tbody tr th:only-of-type {\n",
              "        vertical-align: middle;\n",
              "    }\n",
              "\n",
              "    .dataframe tbody tr th {\n",
              "        vertical-align: top;\n",
              "    }\n",
              "\n",
              "    .dataframe thead th {\n",
              "        text-align: right;\n",
              "    }\n",
              "</style>\n",
              "<table border=\"1\" class=\"dataframe\">\n",
              "  <thead>\n",
              "    <tr style=\"text-align: right;\">\n",
              "      <th></th>\n",
              "      <th>Area</th>\n",
              "      <th>Perimeter</th>\n",
              "      <th>Major_Axis_Length</th>\n",
              "      <th>Minor_Axis_Length</th>\n",
              "      <th>Eccentricity</th>\n",
              "      <th>Convex_Area</th>\n",
              "      <th>Extent</th>\n",
              "      <th>Class</th>\n",
              "    </tr>\n",
              "  </thead>\n",
              "  <tbody>\n",
              "    <tr>\n",
              "      <th>0</th>\n",
              "      <td>11366</td>\n",
              "      <td>423.114990</td>\n",
              "      <td>171.906647</td>\n",
              "      <td>85.579300</td>\n",
              "      <td>0.867278</td>\n",
              "      <td>11599</td>\n",
              "      <td>0.611404</td>\n",
              "      <td>Osmancik</td>\n",
              "    </tr>\n",
              "    <tr>\n",
              "      <th>1</th>\n",
              "      <td>16523</td>\n",
              "      <td>531.892029</td>\n",
              "      <td>224.995422</td>\n",
              "      <td>94.417702</td>\n",
              "      <td>0.907689</td>\n",
              "      <td>16911</td>\n",
              "      <td>0.577041</td>\n",
              "      <td>Cammeo</td>\n",
              "    </tr>\n",
              "    <tr>\n",
              "      <th>2</th>\n",
              "      <td>11088</td>\n",
              "      <td>418.208008</td>\n",
              "      <td>172.027420</td>\n",
              "      <td>82.935669</td>\n",
              "      <td>0.876112</td>\n",
              "      <td>11284</td>\n",
              "      <td>0.624993</td>\n",
              "      <td>Osmancik</td>\n",
              "    </tr>\n",
              "    <tr>\n",
              "      <th>3</th>\n",
              "      <td>14528</td>\n",
              "      <td>475.447998</td>\n",
              "      <td>192.198563</td>\n",
              "      <td>97.417427</td>\n",
              "      <td>0.862029</td>\n",
              "      <td>14795</td>\n",
              "      <td>0.629490</td>\n",
              "      <td>Cammeo</td>\n",
              "    </tr>\n",
              "    <tr>\n",
              "      <th>4</th>\n",
              "      <td>8990</td>\n",
              "      <td>389.377014</td>\n",
              "      <td>157.749603</td>\n",
              "      <td>73.919182</td>\n",
              "      <td>0.883418</td>\n",
              "      <td>9297</td>\n",
              "      <td>0.625261</td>\n",
              "      <td>Osmancik</td>\n",
              "    </tr>\n",
              "  </tbody>\n",
              "</table>\n",
              "</div>"
            ],
            "text/plain": [
              "    Area   Perimeter  Major_Axis_Length  Minor_Axis_Length  Eccentricity  \\\n",
              "0  11366  423.114990         171.906647          85.579300      0.867278   \n",
              "1  16523  531.892029         224.995422          94.417702      0.907689   \n",
              "2  11088  418.208008         172.027420          82.935669      0.876112   \n",
              "3  14528  475.447998         192.198563          97.417427      0.862029   \n",
              "4   8990  389.377014         157.749603          73.919182      0.883418   \n",
              "\n",
              "   Convex_Area    Extent     Class  \n",
              "0        11599  0.611404  Osmancik  \n",
              "1        16911  0.577041    Cammeo  \n",
              "2        11284  0.624993  Osmancik  \n",
              "3        14795  0.629490    Cammeo  \n",
              "4         9297  0.625261  Osmancik  "
            ]
          },
          "execution_count": 7,
          "metadata": {},
          "output_type": "execute_result"
        }
      ],
      "source": [
        "grain.head()"
      ]
    },
    {
      "cell_type": "code",
      "execution_count": 8,
      "metadata": {
        "colab": {
          "base_uri": "https://localhost:8080/",
          "height": 300
        },
        "id": "ALLMN63FPyEQ",
        "outputId": "8c426755-f2cd-4410-95b9-1f04aa97ef6a"
      },
      "outputs": [
        {
          "data": {
            "text/html": [
              "<div>\n",
              "<style scoped>\n",
              "    .dataframe tbody tr th:only-of-type {\n",
              "        vertical-align: middle;\n",
              "    }\n",
              "\n",
              "    .dataframe tbody tr th {\n",
              "        vertical-align: top;\n",
              "    }\n",
              "\n",
              "    .dataframe thead th {\n",
              "        text-align: right;\n",
              "    }\n",
              "</style>\n",
              "<table border=\"1\" class=\"dataframe\">\n",
              "  <thead>\n",
              "    <tr style=\"text-align: right;\">\n",
              "      <th></th>\n",
              "      <th>Area</th>\n",
              "      <th>Perimeter</th>\n",
              "      <th>Major_Axis_Length</th>\n",
              "      <th>Minor_Axis_Length</th>\n",
              "      <th>Eccentricity</th>\n",
              "      <th>Convex_Area</th>\n",
              "      <th>Extent</th>\n",
              "    </tr>\n",
              "  </thead>\n",
              "  <tbody>\n",
              "    <tr>\n",
              "      <th>count</th>\n",
              "      <td>3048.000000</td>\n",
              "      <td>3048.000000</td>\n",
              "      <td>3048.000000</td>\n",
              "      <td>3048.000000</td>\n",
              "      <td>3048.000000</td>\n",
              "      <td>3048.000000</td>\n",
              "      <td>3048.000000</td>\n",
              "    </tr>\n",
              "    <tr>\n",
              "      <th>mean</th>\n",
              "      <td>12650.463583</td>\n",
              "      <td>453.910420</td>\n",
              "      <td>188.634550</td>\n",
              "      <td>86.259638</td>\n",
              "      <td>0.886847</td>\n",
              "      <td>12933.628937</td>\n",
              "      <td>0.663072</td>\n",
              "    </tr>\n",
              "    <tr>\n",
              "      <th>std</th>\n",
              "      <td>1723.577307</td>\n",
              "      <td>35.418271</td>\n",
              "      <td>17.360515</td>\n",
              "      <td>5.736319</td>\n",
              "      <td>0.020829</td>\n",
              "      <td>1767.781362</td>\n",
              "      <td>0.077284</td>\n",
              "    </tr>\n",
              "    <tr>\n",
              "      <th>min</th>\n",
              "      <td>7551.000000</td>\n",
              "      <td>359.100006</td>\n",
              "      <td>145.264465</td>\n",
              "      <td>59.532406</td>\n",
              "      <td>0.777233</td>\n",
              "      <td>7723.000000</td>\n",
              "      <td>0.497413</td>\n",
              "    </tr>\n",
              "    <tr>\n",
              "      <th>25%</th>\n",
              "      <td>11357.750000</td>\n",
              "      <td>425.958992</td>\n",
              "      <td>174.235886</td>\n",
              "      <td>82.642729</td>\n",
              "      <td>0.872278</td>\n",
              "      <td>11608.750000</td>\n",
              "      <td>0.599417</td>\n",
              "    </tr>\n",
              "    <tr>\n",
              "      <th>50%</th>\n",
              "      <td>12415.000000</td>\n",
              "      <td>448.593506</td>\n",
              "      <td>185.520943</td>\n",
              "      <td>86.279121</td>\n",
              "      <td>0.889010</td>\n",
              "      <td>12681.500000</td>\n",
              "      <td>0.648185</td>\n",
              "    </tr>\n",
              "    <tr>\n",
              "      <th>75%</th>\n",
              "      <td>13928.250000</td>\n",
              "      <td>483.222244</td>\n",
              "      <td>203.312111</td>\n",
              "      <td>90.120306</td>\n",
              "      <td>0.902608</td>\n",
              "      <td>14268.500000</td>\n",
              "      <td>0.728501</td>\n",
              "    </tr>\n",
              "    <tr>\n",
              "      <th>max</th>\n",
              "      <td>18313.000000</td>\n",
              "      <td>548.445984</td>\n",
              "      <td>238.435089</td>\n",
              "      <td>107.542450</td>\n",
              "      <td>0.948007</td>\n",
              "      <td>18724.000000</td>\n",
              "      <td>0.861050</td>\n",
              "    </tr>\n",
              "  </tbody>\n",
              "</table>\n",
              "</div>"
            ],
            "text/plain": [
              "               Area    Perimeter  Major_Axis_Length  Minor_Axis_Length  \\\n",
              "count   3048.000000  3048.000000        3048.000000        3048.000000   \n",
              "mean   12650.463583   453.910420         188.634550          86.259638   \n",
              "std     1723.577307    35.418271          17.360515           5.736319   \n",
              "min     7551.000000   359.100006         145.264465          59.532406   \n",
              "25%    11357.750000   425.958992         174.235886          82.642729   \n",
              "50%    12415.000000   448.593506         185.520943          86.279121   \n",
              "75%    13928.250000   483.222244         203.312111          90.120306   \n",
              "max    18313.000000   548.445984         238.435089         107.542450   \n",
              "\n",
              "       Eccentricity   Convex_Area       Extent  \n",
              "count   3048.000000   3048.000000  3048.000000  \n",
              "mean       0.886847  12933.628937     0.663072  \n",
              "std        0.020829   1767.781362     0.077284  \n",
              "min        0.777233   7723.000000     0.497413  \n",
              "25%        0.872278  11608.750000     0.599417  \n",
              "50%        0.889010  12681.500000     0.648185  \n",
              "75%        0.902608  14268.500000     0.728501  \n",
              "max        0.948007  18724.000000     0.861050  "
            ]
          },
          "execution_count": 8,
          "metadata": {},
          "output_type": "execute_result"
        }
      ],
      "source": [
        "grain.describe()"
      ]
    },
    {
      "cell_type": "code",
      "execution_count": 9,
      "metadata": {},
      "outputs": [],
      "source": [
        "# b = grain.total.unique()\n",
        "# print(b)"
      ]
    },
    {
      "cell_type": "code",
      "execution_count": 10,
      "metadata": {},
      "outputs": [],
      "source": [
        "grain['Class'] = (grain['Class'] == 'Osmancik').astype(int)"
      ]
    },
    {
      "cell_type": "code",
      "execution_count": 11,
      "metadata": {
        "colab": {
          "base_uri": "https://localhost:8080/",
          "height": 206
        },
        "id": "BMfSp5n7FluC",
        "outputId": "89d6d5dd-e97d-4600-a0a2-9a2c15937b19"
      },
      "outputs": [
        {
          "data": {
            "text/html": [
              "<div>\n",
              "<style scoped>\n",
              "    .dataframe tbody tr th:only-of-type {\n",
              "        vertical-align: middle;\n",
              "    }\n",
              "\n",
              "    .dataframe tbody tr th {\n",
              "        vertical-align: top;\n",
              "    }\n",
              "\n",
              "    .dataframe thead th {\n",
              "        text-align: right;\n",
              "    }\n",
              "</style>\n",
              "<table border=\"1\" class=\"dataframe\">\n",
              "  <thead>\n",
              "    <tr style=\"text-align: right;\">\n",
              "      <th></th>\n",
              "      <th>Area</th>\n",
              "      <th>Perimeter</th>\n",
              "      <th>Major_Axis_Length</th>\n",
              "      <th>Minor_Axis_Length</th>\n",
              "      <th>Eccentricity</th>\n",
              "      <th>Convex_Area</th>\n",
              "      <th>Extent</th>\n",
              "      <th>Class</th>\n",
              "    </tr>\n",
              "  </thead>\n",
              "  <tbody>\n",
              "    <tr>\n",
              "      <th>0</th>\n",
              "      <td>11366</td>\n",
              "      <td>423.114990</td>\n",
              "      <td>171.906647</td>\n",
              "      <td>85.579300</td>\n",
              "      <td>0.867278</td>\n",
              "      <td>11599</td>\n",
              "      <td>0.611404</td>\n",
              "      <td>1</td>\n",
              "    </tr>\n",
              "    <tr>\n",
              "      <th>1</th>\n",
              "      <td>16523</td>\n",
              "      <td>531.892029</td>\n",
              "      <td>224.995422</td>\n",
              "      <td>94.417702</td>\n",
              "      <td>0.907689</td>\n",
              "      <td>16911</td>\n",
              "      <td>0.577041</td>\n",
              "      <td>0</td>\n",
              "    </tr>\n",
              "    <tr>\n",
              "      <th>2</th>\n",
              "      <td>11088</td>\n",
              "      <td>418.208008</td>\n",
              "      <td>172.027420</td>\n",
              "      <td>82.935669</td>\n",
              "      <td>0.876112</td>\n",
              "      <td>11284</td>\n",
              "      <td>0.624993</td>\n",
              "      <td>1</td>\n",
              "    </tr>\n",
              "    <tr>\n",
              "      <th>3</th>\n",
              "      <td>14528</td>\n",
              "      <td>475.447998</td>\n",
              "      <td>192.198563</td>\n",
              "      <td>97.417427</td>\n",
              "      <td>0.862029</td>\n",
              "      <td>14795</td>\n",
              "      <td>0.629490</td>\n",
              "      <td>0</td>\n",
              "    </tr>\n",
              "    <tr>\n",
              "      <th>4</th>\n",
              "      <td>8990</td>\n",
              "      <td>389.377014</td>\n",
              "      <td>157.749603</td>\n",
              "      <td>73.919182</td>\n",
              "      <td>0.883418</td>\n",
              "      <td>9297</td>\n",
              "      <td>0.625261</td>\n",
              "      <td>1</td>\n",
              "    </tr>\n",
              "  </tbody>\n",
              "</table>\n",
              "</div>"
            ],
            "text/plain": [
              "    Area   Perimeter  Major_Axis_Length  Minor_Axis_Length  Eccentricity  \\\n",
              "0  11366  423.114990         171.906647          85.579300      0.867278   \n",
              "1  16523  531.892029         224.995422          94.417702      0.907689   \n",
              "2  11088  418.208008         172.027420          82.935669      0.876112   \n",
              "3  14528  475.447998         192.198563          97.417427      0.862029   \n",
              "4   8990  389.377014         157.749603          73.919182      0.883418   \n",
              "\n",
              "   Convex_Area    Extent  Class  \n",
              "0        11599  0.611404      1  \n",
              "1        16911  0.577041      0  \n",
              "2        11284  0.624993      1  \n",
              "3        14795  0.629490      0  \n",
              "4         9297  0.625261      1  "
            ]
          },
          "execution_count": 11,
          "metadata": {},
          "output_type": "execute_result"
        }
      ],
      "source": [
        "grain.head()"
      ]
    },
    {
      "cell_type": "code",
      "execution_count": 12,
      "metadata": {},
      "outputs": [
        {
          "name": "stdout",
          "output_type": "stream",
          "text": [
            "<class 'pandas.core.frame.DataFrame'>\n",
            "RangeIndex: 3048 entries, 0 to 3047\n",
            "Data columns (total 8 columns):\n",
            " #   Column             Non-Null Count  Dtype  \n",
            "---  ------             --------------  -----  \n",
            " 0   Area               3048 non-null   int64  \n",
            " 1   Perimeter          3048 non-null   float64\n",
            " 2   Major_Axis_Length  3048 non-null   float64\n",
            " 3   Minor_Axis_Length  3048 non-null   float64\n",
            " 4   Eccentricity       3048 non-null   float64\n",
            " 5   Convex_Area        3048 non-null   int64  \n",
            " 6   Extent             3048 non-null   float64\n",
            " 7   Class              3048 non-null   int32  \n",
            "dtypes: float64(5), int32(1), int64(2)\n",
            "memory usage: 178.7 KB\n"
          ]
        }
      ],
      "source": [
        "grain.info()"
      ]
    },
    {
      "cell_type": "code",
      "execution_count": 13,
      "metadata": {
        "id": "RnGBwGVZPyyh"
      },
      "outputs": [],
      "source": [
        "X = grain.drop(\"Class\", axis=1)\n",
        "y = grain.Class"
      ]
    },
    {
      "cell_type": "code",
      "execution_count": 14,
      "metadata": {
        "colab": {
          "base_uri": "https://localhost:8080/",
          "height": 423
        },
        "id": "CVSfaqgKPzE2",
        "outputId": "fcbdd6a5-d328-405c-ab56-a7d6dca2c6c3"
      },
      "outputs": [
        {
          "data": {
            "text/html": [
              "<div>\n",
              "<style scoped>\n",
              "    .dataframe tbody tr th:only-of-type {\n",
              "        vertical-align: middle;\n",
              "    }\n",
              "\n",
              "    .dataframe tbody tr th {\n",
              "        vertical-align: top;\n",
              "    }\n",
              "\n",
              "    .dataframe thead th {\n",
              "        text-align: right;\n",
              "    }\n",
              "</style>\n",
              "<table border=\"1\" class=\"dataframe\">\n",
              "  <thead>\n",
              "    <tr style=\"text-align: right;\">\n",
              "      <th></th>\n",
              "      <th>Area</th>\n",
              "      <th>Perimeter</th>\n",
              "      <th>Major_Axis_Length</th>\n",
              "      <th>Minor_Axis_Length</th>\n",
              "      <th>Eccentricity</th>\n",
              "      <th>Convex_Area</th>\n",
              "      <th>Extent</th>\n",
              "    </tr>\n",
              "  </thead>\n",
              "  <tbody>\n",
              "    <tr>\n",
              "      <th>0</th>\n",
              "      <td>11366</td>\n",
              "      <td>423.114990</td>\n",
              "      <td>171.906647</td>\n",
              "      <td>85.579300</td>\n",
              "      <td>0.867278</td>\n",
              "      <td>11599</td>\n",
              "      <td>0.611404</td>\n",
              "    </tr>\n",
              "    <tr>\n",
              "      <th>1</th>\n",
              "      <td>16523</td>\n",
              "      <td>531.892029</td>\n",
              "      <td>224.995422</td>\n",
              "      <td>94.417702</td>\n",
              "      <td>0.907689</td>\n",
              "      <td>16911</td>\n",
              "      <td>0.577041</td>\n",
              "    </tr>\n",
              "    <tr>\n",
              "      <th>2</th>\n",
              "      <td>11088</td>\n",
              "      <td>418.208008</td>\n",
              "      <td>172.027420</td>\n",
              "      <td>82.935669</td>\n",
              "      <td>0.876112</td>\n",
              "      <td>11284</td>\n",
              "      <td>0.624993</td>\n",
              "    </tr>\n",
              "    <tr>\n",
              "      <th>3</th>\n",
              "      <td>14528</td>\n",
              "      <td>475.447998</td>\n",
              "      <td>192.198563</td>\n",
              "      <td>97.417427</td>\n",
              "      <td>0.862029</td>\n",
              "      <td>14795</td>\n",
              "      <td>0.629490</td>\n",
              "    </tr>\n",
              "    <tr>\n",
              "      <th>4</th>\n",
              "      <td>8990</td>\n",
              "      <td>389.377014</td>\n",
              "      <td>157.749603</td>\n",
              "      <td>73.919182</td>\n",
              "      <td>0.883418</td>\n",
              "      <td>9297</td>\n",
              "      <td>0.625261</td>\n",
              "    </tr>\n",
              "    <tr>\n",
              "      <th>...</th>\n",
              "      <td>...</td>\n",
              "      <td>...</td>\n",
              "      <td>...</td>\n",
              "      <td>...</td>\n",
              "      <td>...</td>\n",
              "      <td>...</td>\n",
              "      <td>...</td>\n",
              "    </tr>\n",
              "    <tr>\n",
              "      <th>3043</th>\n",
              "      <td>14078</td>\n",
              "      <td>478.470001</td>\n",
              "      <td>203.645462</td>\n",
              "      <td>88.560310</td>\n",
              "      <td>0.900491</td>\n",
              "      <td>14280</td>\n",
              "      <td>0.744395</td>\n",
              "    </tr>\n",
              "    <tr>\n",
              "      <th>3044</th>\n",
              "      <td>17246</td>\n",
              "      <td>540.541992</td>\n",
              "      <td>225.988861</td>\n",
              "      <td>98.573151</td>\n",
              "      <td>0.899857</td>\n",
              "      <td>17704</td>\n",
              "      <td>0.573929</td>\n",
              "    </tr>\n",
              "    <tr>\n",
              "      <th>3045</th>\n",
              "      <td>11070</td>\n",
              "      <td>419.403015</td>\n",
              "      <td>173.575043</td>\n",
              "      <td>82.154213</td>\n",
              "      <td>0.880898</td>\n",
              "      <td>11266</td>\n",
              "      <td>0.600586</td>\n",
              "    </tr>\n",
              "    <tr>\n",
              "      <th>3046</th>\n",
              "      <td>11747</td>\n",
              "      <td>452.127014</td>\n",
              "      <td>194.494858</td>\n",
              "      <td>78.744461</td>\n",
              "      <td>0.914376</td>\n",
              "      <td>11935</td>\n",
              "      <td>0.542637</td>\n",
              "    </tr>\n",
              "    <tr>\n",
              "      <th>3047</th>\n",
              "      <td>11745</td>\n",
              "      <td>426.765991</td>\n",
              "      <td>179.015274</td>\n",
              "      <td>84.025139</td>\n",
              "      <td>0.882999</td>\n",
              "      <td>11904</td>\n",
              "      <td>0.685399</td>\n",
              "    </tr>\n",
              "  </tbody>\n",
              "</table>\n",
              "<p>3048 rows × 7 columns</p>\n",
              "</div>"
            ],
            "text/plain": [
              "       Area   Perimeter  Major_Axis_Length  Minor_Axis_Length  Eccentricity  \\\n",
              "0     11366  423.114990         171.906647          85.579300      0.867278   \n",
              "1     16523  531.892029         224.995422          94.417702      0.907689   \n",
              "2     11088  418.208008         172.027420          82.935669      0.876112   \n",
              "3     14528  475.447998         192.198563          97.417427      0.862029   \n",
              "4      8990  389.377014         157.749603          73.919182      0.883418   \n",
              "...     ...         ...                ...                ...           ...   \n",
              "3043  14078  478.470001         203.645462          88.560310      0.900491   \n",
              "3044  17246  540.541992         225.988861          98.573151      0.899857   \n",
              "3045  11070  419.403015         173.575043          82.154213      0.880898   \n",
              "3046  11747  452.127014         194.494858          78.744461      0.914376   \n",
              "3047  11745  426.765991         179.015274          84.025139      0.882999   \n",
              "\n",
              "      Convex_Area    Extent  \n",
              "0           11599  0.611404  \n",
              "1           16911  0.577041  \n",
              "2           11284  0.624993  \n",
              "3           14795  0.629490  \n",
              "4            9297  0.625261  \n",
              "...           ...       ...  \n",
              "3043        14280  0.744395  \n",
              "3044        17704  0.573929  \n",
              "3045        11266  0.600586  \n",
              "3046        11935  0.542637  \n",
              "3047        11904  0.685399  \n",
              "\n",
              "[3048 rows x 7 columns]"
            ]
          },
          "execution_count": 14,
          "metadata": {},
          "output_type": "execute_result"
        }
      ],
      "source": [
        "X"
      ]
    },
    {
      "cell_type": "code",
      "execution_count": 15,
      "metadata": {
        "colab": {
          "base_uri": "https://localhost:8080/"
        },
        "id": "GRzGR_jwF5P6",
        "outputId": "a6916ccd-860f-488c-8b3a-ce8e00c39e2f"
      },
      "outputs": [
        {
          "data": {
            "text/plain": [
              "0       1\n",
              "1       0\n",
              "2       1\n",
              "3       0\n",
              "4       1\n",
              "       ..\n",
              "3043    0\n",
              "3044    0\n",
              "3045    1\n",
              "3046    0\n",
              "3047    1\n",
              "Name: Class, Length: 3048, dtype: int32"
            ]
          },
          "execution_count": 15,
          "metadata": {},
          "output_type": "execute_result"
        }
      ],
      "source": [
        "y"
      ]
    },
    {
      "cell_type": "code",
      "execution_count": 16,
      "metadata": {
        "id": "HCGkyZ2VF-7j"
      },
      "outputs": [],
      "source": [
        "X_train, X_test, y_train, y_test = train_test_split(X, y, test_size=0.2, random_state=42)"
      ]
    },
    {
      "cell_type": "code",
      "execution_count": 31,
      "metadata": {},
      "outputs": [],
      "source": [
        "# Initialize and train the model\n",
        "model = LogisticRegressionCV()\n",
        "model.fit(X_train, y_train)\n",
        "\n",
        "# Make predictions and evaluate the model\n",
        "predictions = model.predict(X_test)\n",
        "result = mean_squared_error(y_test, predictions, squared=False)"
      ]
    },
    {
      "cell_type": "code",
      "execution_count": 32,
      "metadata": {},
      "outputs": [
        {
          "data": {
            "text/plain": [
              "array([1, 1, 1, 1, 1, 1, 1, 1, 0, 0, 1, 1, 1, 0, 1, 0, 0, 1, 1, 1, 1, 1,\n",
              "       1, 0, 0, 0, 1, 1, 1, 0, 0, 1, 1, 1, 0, 1, 0, 0, 1, 1, 0, 0, 1, 1,\n",
              "       1, 0, 1, 1, 1, 0, 0, 0, 0, 1, 1, 1, 1, 1, 1, 0, 1, 1, 1, 1, 1, 1,\n",
              "       1, 1, 0, 1, 1, 0, 1, 0, 0, 1, 0, 0, 1, 0, 0, 1, 1, 1, 1, 0, 1, 1,\n",
              "       0, 1, 0, 0, 1, 1, 0, 0, 1, 1, 1, 0, 1, 1, 1, 1, 0, 1, 1, 0, 1, 0,\n",
              "       0, 1, 1, 0, 0, 0, 0, 0, 1, 1, 1, 0, 1, 1, 1, 1, 1, 0, 1, 0, 1, 1,\n",
              "       1, 1, 0, 1, 0, 1, 1, 0, 0, 1, 0, 1, 1, 0, 0, 1, 1, 1, 1, 1, 0, 0,\n",
              "       0, 0, 1, 1, 1, 0, 1, 0, 0, 1, 1, 0, 1, 1, 0, 0, 1, 0, 1, 1, 1, 1,\n",
              "       1, 1, 1, 1, 1, 0, 0, 1, 1, 1, 1, 0, 1, 0, 0, 0, 1, 0, 1, 1, 0, 1,\n",
              "       1, 1, 1, 0, 1, 1, 0, 1, 1, 0, 0, 1, 1, 1, 1, 1, 1, 1, 1, 0, 1, 0,\n",
              "       0, 0, 1, 1, 0, 1, 1, 0, 0, 0, 1, 0, 1, 1, 0, 0, 1, 1, 1, 1, 0, 0,\n",
              "       1, 0, 1, 0, 1, 1, 1, 1, 0, 0, 0, 0, 1, 1, 1, 0, 1, 1, 0, 1, 1, 1,\n",
              "       0, 0, 1, 1, 0, 1, 0, 1, 0, 1, 0, 0, 0, 1, 1, 0, 1, 0, 1, 0, 0, 0,\n",
              "       1, 1, 1, 0, 0, 0, 1, 1, 1, 1, 0, 1, 1, 0, 1, 0, 0, 0, 1, 1, 1, 1,\n",
              "       1, 1, 1, 1, 0, 1, 1, 1, 0, 0, 0, 1, 1, 1, 1, 0, 0, 0, 1, 1, 1, 0,\n",
              "       1, 0, 0, 1, 1, 1, 0, 1, 0, 0, 0, 1, 1, 1, 1, 1, 0, 1, 1, 1, 0, 1,\n",
              "       1, 1, 0, 1, 1, 1, 1, 0, 0, 1, 1, 1, 1, 1, 1, 1, 0, 0, 0, 0, 1, 0,\n",
              "       1, 1, 0, 1, 0, 1, 1, 0, 0, 1, 0, 1, 0, 0, 1, 0, 0, 0, 1, 0, 1, 0,\n",
              "       1, 1, 1, 0, 1, 1, 1, 1, 0, 1, 1, 0, 1, 1, 0, 0, 1, 1, 0, 1, 1, 1,\n",
              "       1, 0, 1, 1, 0, 0, 1, 1, 1, 1, 0, 1, 0, 0, 1, 0, 0, 0, 1, 1, 1, 1,\n",
              "       1, 0, 0, 0, 1, 0, 1, 0, 1, 0, 1, 0, 1, 0, 0, 1, 0, 1, 1, 1, 0, 1,\n",
              "       1, 1, 1, 0, 0, 1, 1, 0, 1, 1, 1, 1, 0, 1, 1, 1, 1, 0, 1, 0, 1, 0,\n",
              "       1, 1, 0, 1, 0, 1, 1, 1, 0, 0, 1, 1, 1, 1, 1, 0, 1, 1, 1, 1, 0, 1,\n",
              "       0, 0, 0, 0, 0, 0, 1, 1, 0, 0, 1, 0, 0, 0, 1, 1, 1, 0, 0, 1, 1, 0,\n",
              "       1, 1, 0, 1, 0, 1, 1, 0, 0, 1, 1, 1, 0, 1, 1, 1, 1, 0, 1, 0, 0, 1,\n",
              "       1, 1, 1, 1, 1, 0, 0, 0, 1, 0, 0, 1, 1, 0, 0, 0, 1, 0, 1, 1, 0, 0,\n",
              "       0, 1, 1, 1, 0, 1, 0, 0, 1, 0, 0, 0, 0, 1, 0, 1, 0, 0, 0, 0, 1, 1,\n",
              "       0, 1, 1, 0, 0, 0, 1, 0, 0, 0, 0, 0, 1, 1, 0, 0])"
            ]
          },
          "execution_count": 32,
          "metadata": {},
          "output_type": "execute_result"
        }
      ],
      "source": [
        "predictions"
      ]
    },
    {
      "cell_type": "code",
      "execution_count": 22,
      "metadata": {},
      "outputs": [
        {
          "data": {
            "text/plain": [
              "0.29476303347204064"
            ]
          },
          "execution_count": 22,
          "metadata": {},
          "output_type": "execute_result"
        }
      ],
      "source": [
        "result = mean_squared_error(y_test, predictions, squared=False)\n",
        "result"
      ]
    },
    {
      "cell_type": "code",
      "execution_count": 23,
      "metadata": {},
      "outputs": [
        {
          "data": {
            "text/plain": [
              "0.6443696443696444"
            ]
          },
          "execution_count": 23,
          "metadata": {},
          "output_type": "execute_result"
        }
      ],
      "source": [
        "r2 = r2_score(y_test,predictions)\n",
        "r2"
      ]
    },
    {
      "cell_type": "code",
      "execution_count": 24,
      "metadata": {},
      "outputs": [
        {
          "data": {
            "text/plain": [
              "0.9131147540983606"
            ]
          },
          "execution_count": 24,
          "metadata": {},
          "output_type": "execute_result"
        }
      ],
      "source": [
        "accuracy_score(y_test, predictions)"
      ]
    },
    {
      "cell_type": "code",
      "execution_count": 25,
      "metadata": {},
      "outputs": [],
      "source": [
        "holdout = pd.read_csv('https://byui-cse.github.io/cse450-course/ice/grain/data/grain-holdout.csv')"
      ]
    },
    {
      "cell_type": "code",
      "execution_count": 26,
      "metadata": {},
      "outputs": [
        {
          "data": {
            "text/html": [
              "<div>\n",
              "<style scoped>\n",
              "    .dataframe tbody tr th:only-of-type {\n",
              "        vertical-align: middle;\n",
              "    }\n",
              "\n",
              "    .dataframe tbody tr th {\n",
              "        vertical-align: top;\n",
              "    }\n",
              "\n",
              "    .dataframe thead th {\n",
              "        text-align: right;\n",
              "    }\n",
              "</style>\n",
              "<table border=\"1\" class=\"dataframe\">\n",
              "  <thead>\n",
              "    <tr style=\"text-align: right;\">\n",
              "      <th></th>\n",
              "      <th>Area</th>\n",
              "      <th>Perimeter</th>\n",
              "      <th>Major_Axis_Length</th>\n",
              "      <th>Minor_Axis_Length</th>\n",
              "      <th>Eccentricity</th>\n",
              "      <th>Convex_Area</th>\n",
              "      <th>Extent</th>\n",
              "    </tr>\n",
              "  </thead>\n",
              "  <tbody>\n",
              "    <tr>\n",
              "      <th>0</th>\n",
              "      <td>12899</td>\n",
              "      <td>472.263000</td>\n",
              "      <td>205.520554</td>\n",
              "      <td>80.433365</td>\n",
              "      <td>0.920236</td>\n",
              "      <td>13107</td>\n",
              "      <td>0.585919</td>\n",
              "    </tr>\n",
              "    <tr>\n",
              "      <th>1</th>\n",
              "      <td>11693</td>\n",
              "      <td>424.503998</td>\n",
              "      <td>176.024063</td>\n",
              "      <td>84.991318</td>\n",
              "      <td>0.875709</td>\n",
              "      <td>11842</td>\n",
              "      <td>0.606735</td>\n",
              "    </tr>\n",
              "    <tr>\n",
              "      <th>2</th>\n",
              "      <td>11329</td>\n",
              "      <td>419.404999</td>\n",
              "      <td>173.390457</td>\n",
              "      <td>84.345825</td>\n",
              "      <td>0.873708</td>\n",
              "      <td>11560</td>\n",
              "      <td>0.803247</td>\n",
              "    </tr>\n",
              "    <tr>\n",
              "      <th>3</th>\n",
              "      <td>12278</td>\n",
              "      <td>453.692993</td>\n",
              "      <td>184.050156</td>\n",
              "      <td>86.660088</td>\n",
              "      <td>0.882213</td>\n",
              "      <td>12601</td>\n",
              "      <td>0.629835</td>\n",
              "    </tr>\n",
              "    <tr>\n",
              "      <th>4</th>\n",
              "      <td>11231</td>\n",
              "      <td>427.666992</td>\n",
              "      <td>183.587097</td>\n",
              "      <td>78.861732</td>\n",
              "      <td>0.903038</td>\n",
              "      <td>11427</td>\n",
              "      <td>0.721184</td>\n",
              "    </tr>\n",
              "  </tbody>\n",
              "</table>\n",
              "</div>"
            ],
            "text/plain": [
              "    Area   Perimeter  Major_Axis_Length  Minor_Axis_Length  Eccentricity  \\\n",
              "0  12899  472.263000         205.520554          80.433365      0.920236   \n",
              "1  11693  424.503998         176.024063          84.991318      0.875709   \n",
              "2  11329  419.404999         173.390457          84.345825      0.873708   \n",
              "3  12278  453.692993         184.050156          86.660088      0.882213   \n",
              "4  11231  427.666992         183.587097          78.861732      0.903038   \n",
              "\n",
              "   Convex_Area    Extent  \n",
              "0        13107  0.585919  \n",
              "1        11842  0.606735  \n",
              "2        11560  0.803247  \n",
              "3        12601  0.629835  \n",
              "4        11427  0.721184  "
            ]
          },
          "execution_count": 26,
          "metadata": {},
          "output_type": "execute_result"
        }
      ],
      "source": [
        "holdout.head()"
      ]
    },
    {
      "cell_type": "code",
      "execution_count": 28,
      "metadata": {},
      "outputs": [
        {
          "data": {
            "text/plain": [
              "array([0, 1, 1, 1, 1, 0, 0, 0, 1, 1, 1, 1, 0, 1, 0, 1, 1, 1, 1, 0, 1, 0,\n",
              "       1, 1, 0, 0, 0, 0, 0, 0, 0, 0, 0, 0, 0, 0, 0, 0, 1, 0, 1, 1, 0, 1,\n",
              "       1, 0, 1, 1, 1, 0, 1, 1, 1, 0, 0, 1, 1, 1, 0, 0, 0, 0, 1, 0, 0, 0,\n",
              "       0, 1, 1, 1, 1, 0, 0, 0, 1, 0, 0, 1, 0, 0, 1, 1, 0, 1, 0, 1, 1, 0,\n",
              "       1, 1, 0, 1, 1, 0, 1, 1, 0, 0, 0, 0, 1, 1, 0, 1, 1, 0, 0, 1, 0, 1,\n",
              "       1, 1, 1, 1, 0, 0, 1, 1, 1, 0, 1, 1, 1, 0, 1, 1, 0, 1, 0, 1, 0, 0,\n",
              "       0, 0, 1, 1, 1, 1, 1, 0, 0, 0, 1, 0, 0, 0, 1, 0, 0, 1, 1, 0, 1, 0,\n",
              "       1, 0, 0, 1, 1, 0, 0, 0, 1, 0, 1, 0, 0, 0, 0, 1, 1, 0, 0, 1, 1, 1,\n",
              "       0, 0, 0, 0, 1, 1, 1, 0, 0, 1, 0, 0, 1, 0, 0, 1, 1, 1, 0, 1, 0, 1,\n",
              "       1, 1, 1, 1, 1, 1, 1, 0, 1, 0, 1, 0, 1, 0, 1, 0, 0, 1, 0, 0, 1, 1,\n",
              "       1, 1, 0, 1, 1, 0, 1, 0, 0, 1, 0, 1, 1, 0, 1, 0, 0, 0, 0, 1, 1, 1,\n",
              "       1, 0, 1, 1, 1, 1, 1, 0, 1, 1, 1, 1, 1, 0, 1, 1, 0, 0, 0, 0, 0, 0,\n",
              "       0, 1, 1, 0, 0, 1, 0, 1, 1, 1, 1, 0, 1, 1, 0, 1, 1, 1, 0, 0, 1, 1,\n",
              "       1, 0, 0, 1, 1, 1, 0, 1, 1, 0, 0, 0, 1, 1, 1, 1, 1, 0, 0, 0, 1, 0,\n",
              "       1, 0, 0, 1, 0, 0, 0, 1, 1, 1, 1, 1, 1, 1, 0, 1, 0, 1, 1, 1, 1, 0,\n",
              "       1, 0, 1, 0, 0, 0, 1, 1, 1, 0, 1, 1, 0, 0, 1, 1, 1, 1, 1, 1, 1, 1,\n",
              "       0, 1, 0, 1, 1, 1, 0, 0, 1, 1, 1, 0, 0, 0, 1, 1, 1, 0, 0, 1, 1, 1,\n",
              "       0, 0, 0, 0, 1, 0, 1, 1, 1, 0, 0, 0, 1, 0, 0, 1, 0, 1, 0, 1, 1, 0,\n",
              "       1, 0, 1, 1, 1, 1, 0, 1, 1, 0, 0, 1, 1, 1, 0, 1, 1, 1, 1, 0, 1, 1,\n",
              "       1, 1, 1, 1, 0, 0, 1, 0, 0, 1, 0, 1, 0, 1, 0, 1, 1, 1, 1, 1, 1, 1,\n",
              "       0, 0, 1, 1, 0, 1, 0, 0, 0, 1, 0, 1, 1, 0, 1, 0, 1, 1, 1, 0, 1, 0,\n",
              "       0, 1, 0, 0, 1, 1, 0, 1, 1, 0, 0, 0, 0, 0, 1, 1, 1, 1, 1, 1, 1, 1,\n",
              "       0, 1, 0, 1, 1, 1, 1, 0, 0, 1, 0, 1, 1, 1, 0, 1, 1, 1, 0, 0, 1, 1,\n",
              "       0, 1, 0, 0, 0, 1, 0, 0, 1, 1, 0, 1, 1, 0, 0, 1, 0, 1, 1, 0, 0, 0,\n",
              "       0, 0, 1, 1, 1, 0, 1, 1, 0, 0, 1, 1, 0, 1, 0, 0, 0, 0, 1, 1, 1, 0,\n",
              "       0, 0, 1, 0, 0, 1, 1, 1, 1, 1, 1, 1, 1, 0, 1, 0, 1, 1, 1, 1, 1, 0,\n",
              "       1, 0, 0, 0, 0, 1, 1, 1, 1, 0, 1, 0, 0, 1, 0, 1, 1, 0, 1, 1, 0, 1,\n",
              "       0, 1, 1, 1, 1, 1, 1, 1, 0, 1, 1, 1, 1, 1, 0, 1, 0, 1, 1, 1, 1, 0,\n",
              "       0, 0, 1, 0, 0, 0, 1, 0, 1, 1, 1, 1, 1, 0, 1, 1, 0, 0, 0, 0, 1, 1,\n",
              "       0, 0, 1, 1, 1, 1, 0, 1, 1, 1, 1, 0, 0, 1, 0, 1, 0, 1, 0, 1, 0, 0,\n",
              "       1, 0, 1, 1, 1, 1, 0, 0, 0, 1, 0, 1, 1, 1, 1, 1, 1, 1, 0, 0, 0, 0,\n",
              "       1, 0, 1, 1, 1, 1, 1, 1, 1, 1, 1, 0, 1, 1, 1, 0, 1, 1, 1, 1, 1, 1,\n",
              "       1, 1, 0, 1, 0, 1, 0, 1, 0, 1, 1, 1, 1, 0, 1, 1, 0, 0, 0, 1, 0, 0,\n",
              "       1, 1, 1, 0, 0, 0, 1, 1, 1, 0, 1, 0, 1, 1, 1, 0, 1, 0, 0, 1, 1, 1,\n",
              "       1, 0, 0, 1, 0, 1, 1, 1, 0, 1, 1, 0, 0, 1])"
            ]
          },
          "execution_count": 28,
          "metadata": {},
          "output_type": "execute_result"
        }
      ],
      "source": [
        "predict_holdout = model.predict(holdout)\n",
        "predict_holdout"
      ]
    },
    {
      "cell_type": "code",
      "execution_count": 29,
      "metadata": {},
      "outputs": [],
      "source": [
        "converted_predictions = np.where(predict_holdout < 0.5, \"Cammeo\", \"Osmancik\")"
      ]
    },
    {
      "cell_type": "code",
      "execution_count": 30,
      "metadata": {},
      "outputs": [
        {
          "data": {
            "text/plain": [
              "array(['Cammeo', 'Osmancik', 'Osmancik', 'Osmancik', 'Osmancik', 'Cammeo',\n",
              "       'Cammeo', 'Cammeo', 'Osmancik', 'Osmancik', 'Osmancik', 'Osmancik',\n",
              "       'Cammeo', 'Osmancik', 'Cammeo', 'Osmancik', 'Osmancik', 'Osmancik',\n",
              "       'Osmancik', 'Cammeo', 'Osmancik', 'Cammeo', 'Osmancik', 'Osmancik',\n",
              "       'Cammeo', 'Cammeo', 'Cammeo', 'Cammeo', 'Cammeo', 'Cammeo',\n",
              "       'Cammeo', 'Cammeo', 'Cammeo', 'Cammeo', 'Cammeo', 'Cammeo',\n",
              "       'Cammeo', 'Cammeo', 'Osmancik', 'Cammeo', 'Osmancik', 'Osmancik',\n",
              "       'Cammeo', 'Osmancik', 'Osmancik', 'Cammeo', 'Osmancik', 'Osmancik',\n",
              "       'Osmancik', 'Cammeo', 'Osmancik', 'Osmancik', 'Osmancik', 'Cammeo',\n",
              "       'Cammeo', 'Osmancik', 'Osmancik', 'Osmancik', 'Cammeo', 'Cammeo',\n",
              "       'Cammeo', 'Cammeo', 'Osmancik', 'Cammeo', 'Cammeo', 'Cammeo',\n",
              "       'Cammeo', 'Osmancik', 'Osmancik', 'Osmancik', 'Osmancik', 'Cammeo',\n",
              "       'Cammeo', 'Cammeo', 'Osmancik', 'Cammeo', 'Cammeo', 'Osmancik',\n",
              "       'Cammeo', 'Cammeo', 'Osmancik', 'Osmancik', 'Cammeo', 'Osmancik',\n",
              "       'Cammeo', 'Osmancik', 'Osmancik', 'Cammeo', 'Osmancik', 'Osmancik',\n",
              "       'Cammeo', 'Osmancik', 'Osmancik', 'Cammeo', 'Osmancik', 'Osmancik',\n",
              "       'Cammeo', 'Cammeo', 'Cammeo', 'Cammeo', 'Osmancik', 'Osmancik',\n",
              "       'Cammeo', 'Osmancik', 'Osmancik', 'Cammeo', 'Cammeo', 'Osmancik',\n",
              "       'Cammeo', 'Osmancik', 'Osmancik', 'Osmancik', 'Osmancik',\n",
              "       'Osmancik', 'Cammeo', 'Cammeo', 'Osmancik', 'Osmancik', 'Osmancik',\n",
              "       'Cammeo', 'Osmancik', 'Osmancik', 'Osmancik', 'Cammeo', 'Osmancik',\n",
              "       'Osmancik', 'Cammeo', 'Osmancik', 'Cammeo', 'Osmancik', 'Cammeo',\n",
              "       'Cammeo', 'Cammeo', 'Cammeo', 'Osmancik', 'Osmancik', 'Osmancik',\n",
              "       'Osmancik', 'Osmancik', 'Cammeo', 'Cammeo', 'Cammeo', 'Osmancik',\n",
              "       'Cammeo', 'Cammeo', 'Cammeo', 'Osmancik', 'Cammeo', 'Cammeo',\n",
              "       'Osmancik', 'Osmancik', 'Cammeo', 'Osmancik', 'Cammeo', 'Osmancik',\n",
              "       'Cammeo', 'Cammeo', 'Osmancik', 'Osmancik', 'Cammeo', 'Cammeo',\n",
              "       'Cammeo', 'Osmancik', 'Cammeo', 'Osmancik', 'Cammeo', 'Cammeo',\n",
              "       'Cammeo', 'Cammeo', 'Osmancik', 'Osmancik', 'Cammeo', 'Cammeo',\n",
              "       'Osmancik', 'Osmancik', 'Osmancik', 'Cammeo', 'Cammeo', 'Cammeo',\n",
              "       'Cammeo', 'Osmancik', 'Osmancik', 'Osmancik', 'Cammeo', 'Cammeo',\n",
              "       'Osmancik', 'Cammeo', 'Cammeo', 'Osmancik', 'Cammeo', 'Cammeo',\n",
              "       'Osmancik', 'Osmancik', 'Osmancik', 'Cammeo', 'Osmancik', 'Cammeo',\n",
              "       'Osmancik', 'Osmancik', 'Osmancik', 'Osmancik', 'Osmancik',\n",
              "       'Osmancik', 'Osmancik', 'Osmancik', 'Cammeo', 'Osmancik', 'Cammeo',\n",
              "       'Osmancik', 'Cammeo', 'Osmancik', 'Cammeo', 'Osmancik', 'Cammeo',\n",
              "       'Cammeo', 'Osmancik', 'Cammeo', 'Cammeo', 'Osmancik', 'Osmancik',\n",
              "       'Osmancik', 'Osmancik', 'Cammeo', 'Osmancik', 'Osmancik', 'Cammeo',\n",
              "       'Osmancik', 'Cammeo', 'Cammeo', 'Osmancik', 'Cammeo', 'Osmancik',\n",
              "       'Osmancik', 'Cammeo', 'Osmancik', 'Cammeo', 'Cammeo', 'Cammeo',\n",
              "       'Cammeo', 'Osmancik', 'Osmancik', 'Osmancik', 'Osmancik', 'Cammeo',\n",
              "       'Osmancik', 'Osmancik', 'Osmancik', 'Osmancik', 'Osmancik',\n",
              "       'Cammeo', 'Osmancik', 'Osmancik', 'Osmancik', 'Osmancik',\n",
              "       'Osmancik', 'Cammeo', 'Osmancik', 'Osmancik', 'Cammeo', 'Cammeo',\n",
              "       'Cammeo', 'Cammeo', 'Cammeo', 'Cammeo', 'Cammeo', 'Osmancik',\n",
              "       'Osmancik', 'Cammeo', 'Cammeo', 'Osmancik', 'Cammeo', 'Osmancik',\n",
              "       'Osmancik', 'Osmancik', 'Osmancik', 'Cammeo', 'Osmancik',\n",
              "       'Osmancik', 'Cammeo', 'Osmancik', 'Osmancik', 'Osmancik', 'Cammeo',\n",
              "       'Cammeo', 'Osmancik', 'Osmancik', 'Osmancik', 'Cammeo', 'Cammeo',\n",
              "       'Osmancik', 'Osmancik', 'Osmancik', 'Cammeo', 'Osmancik',\n",
              "       'Osmancik', 'Cammeo', 'Cammeo', 'Cammeo', 'Osmancik', 'Osmancik',\n",
              "       'Osmancik', 'Osmancik', 'Osmancik', 'Cammeo', 'Cammeo', 'Cammeo',\n",
              "       'Osmancik', 'Cammeo', 'Osmancik', 'Cammeo', 'Cammeo', 'Osmancik',\n",
              "       'Cammeo', 'Cammeo', 'Cammeo', 'Osmancik', 'Osmancik', 'Osmancik',\n",
              "       'Osmancik', 'Osmancik', 'Osmancik', 'Osmancik', 'Cammeo',\n",
              "       'Osmancik', 'Cammeo', 'Osmancik', 'Osmancik', 'Osmancik',\n",
              "       'Osmancik', 'Cammeo', 'Osmancik', 'Cammeo', 'Osmancik', 'Cammeo',\n",
              "       'Cammeo', 'Cammeo', 'Osmancik', 'Osmancik', 'Osmancik', 'Cammeo',\n",
              "       'Osmancik', 'Osmancik', 'Cammeo', 'Cammeo', 'Osmancik', 'Osmancik',\n",
              "       'Osmancik', 'Osmancik', 'Osmancik', 'Osmancik', 'Osmancik',\n",
              "       'Osmancik', 'Cammeo', 'Osmancik', 'Cammeo', 'Osmancik', 'Osmancik',\n",
              "       'Osmancik', 'Cammeo', 'Cammeo', 'Osmancik', 'Osmancik', 'Osmancik',\n",
              "       'Cammeo', 'Cammeo', 'Cammeo', 'Osmancik', 'Osmancik', 'Osmancik',\n",
              "       'Cammeo', 'Cammeo', 'Osmancik', 'Osmancik', 'Osmancik', 'Cammeo',\n",
              "       'Cammeo', 'Cammeo', 'Cammeo', 'Osmancik', 'Cammeo', 'Osmancik',\n",
              "       'Osmancik', 'Osmancik', 'Cammeo', 'Cammeo', 'Cammeo', 'Osmancik',\n",
              "       'Cammeo', 'Cammeo', 'Osmancik', 'Cammeo', 'Osmancik', 'Cammeo',\n",
              "       'Osmancik', 'Osmancik', 'Cammeo', 'Osmancik', 'Cammeo', 'Osmancik',\n",
              "       'Osmancik', 'Osmancik', 'Osmancik', 'Cammeo', 'Osmancik',\n",
              "       'Osmancik', 'Cammeo', 'Cammeo', 'Osmancik', 'Osmancik', 'Osmancik',\n",
              "       'Cammeo', 'Osmancik', 'Osmancik', 'Osmancik', 'Osmancik', 'Cammeo',\n",
              "       'Osmancik', 'Osmancik', 'Osmancik', 'Osmancik', 'Osmancik',\n",
              "       'Osmancik', 'Cammeo', 'Cammeo', 'Osmancik', 'Cammeo', 'Cammeo',\n",
              "       'Osmancik', 'Cammeo', 'Osmancik', 'Cammeo', 'Osmancik', 'Cammeo',\n",
              "       'Osmancik', 'Osmancik', 'Osmancik', 'Osmancik', 'Osmancik',\n",
              "       'Osmancik', 'Osmancik', 'Cammeo', 'Cammeo', 'Osmancik', 'Osmancik',\n",
              "       'Cammeo', 'Osmancik', 'Cammeo', 'Cammeo', 'Cammeo', 'Osmancik',\n",
              "       'Cammeo', 'Osmancik', 'Osmancik', 'Cammeo', 'Osmancik', 'Cammeo',\n",
              "       'Osmancik', 'Osmancik', 'Osmancik', 'Cammeo', 'Osmancik', 'Cammeo',\n",
              "       'Cammeo', 'Osmancik', 'Cammeo', 'Cammeo', 'Osmancik', 'Osmancik',\n",
              "       'Cammeo', 'Osmancik', 'Osmancik', 'Cammeo', 'Cammeo', 'Cammeo',\n",
              "       'Cammeo', 'Cammeo', 'Osmancik', 'Osmancik', 'Osmancik', 'Osmancik',\n",
              "       'Osmancik', 'Osmancik', 'Osmancik', 'Osmancik', 'Cammeo',\n",
              "       'Osmancik', 'Cammeo', 'Osmancik', 'Osmancik', 'Osmancik',\n",
              "       'Osmancik', 'Cammeo', 'Cammeo', 'Osmancik', 'Cammeo', 'Osmancik',\n",
              "       'Osmancik', 'Osmancik', 'Cammeo', 'Osmancik', 'Osmancik',\n",
              "       'Osmancik', 'Cammeo', 'Cammeo', 'Osmancik', 'Osmancik', 'Cammeo',\n",
              "       'Osmancik', 'Cammeo', 'Cammeo', 'Cammeo', 'Osmancik', 'Cammeo',\n",
              "       'Cammeo', 'Osmancik', 'Osmancik', 'Cammeo', 'Osmancik', 'Osmancik',\n",
              "       'Cammeo', 'Cammeo', 'Osmancik', 'Cammeo', 'Osmancik', 'Osmancik',\n",
              "       'Cammeo', 'Cammeo', 'Cammeo', 'Cammeo', 'Cammeo', 'Osmancik',\n",
              "       'Osmancik', 'Osmancik', 'Cammeo', 'Osmancik', 'Osmancik', 'Cammeo',\n",
              "       'Cammeo', 'Osmancik', 'Osmancik', 'Cammeo', 'Osmancik', 'Cammeo',\n",
              "       'Cammeo', 'Cammeo', 'Cammeo', 'Osmancik', 'Osmancik', 'Osmancik',\n",
              "       'Cammeo', 'Cammeo', 'Cammeo', 'Osmancik', 'Cammeo', 'Cammeo',\n",
              "       'Osmancik', 'Osmancik', 'Osmancik', 'Osmancik', 'Osmancik',\n",
              "       'Osmancik', 'Osmancik', 'Osmancik', 'Cammeo', 'Osmancik', 'Cammeo',\n",
              "       'Osmancik', 'Osmancik', 'Osmancik', 'Osmancik', 'Osmancik',\n",
              "       'Cammeo', 'Osmancik', 'Cammeo', 'Cammeo', 'Cammeo', 'Cammeo',\n",
              "       'Osmancik', 'Osmancik', 'Osmancik', 'Osmancik', 'Cammeo',\n",
              "       'Osmancik', 'Cammeo', 'Cammeo', 'Osmancik', 'Cammeo', 'Osmancik',\n",
              "       'Osmancik', 'Cammeo', 'Osmancik', 'Osmancik', 'Cammeo', 'Osmancik',\n",
              "       'Cammeo', 'Osmancik', 'Osmancik', 'Osmancik', 'Osmancik',\n",
              "       'Osmancik', 'Osmancik', 'Osmancik', 'Cammeo', 'Osmancik',\n",
              "       'Osmancik', 'Osmancik', 'Osmancik', 'Osmancik', 'Cammeo',\n",
              "       'Osmancik', 'Cammeo', 'Osmancik', 'Osmancik', 'Osmancik',\n",
              "       'Osmancik', 'Cammeo', 'Cammeo', 'Cammeo', 'Osmancik', 'Cammeo',\n",
              "       'Cammeo', 'Cammeo', 'Osmancik', 'Cammeo', 'Osmancik', 'Osmancik',\n",
              "       'Osmancik', 'Osmancik', 'Osmancik', 'Cammeo', 'Osmancik',\n",
              "       'Osmancik', 'Cammeo', 'Cammeo', 'Cammeo', 'Cammeo', 'Osmancik',\n",
              "       'Osmancik', 'Cammeo', 'Cammeo', 'Osmancik', 'Osmancik', 'Osmancik',\n",
              "       'Osmancik', 'Cammeo', 'Osmancik', 'Osmancik', 'Osmancik',\n",
              "       'Osmancik', 'Cammeo', 'Cammeo', 'Osmancik', 'Cammeo', 'Osmancik',\n",
              "       'Cammeo', 'Osmancik', 'Cammeo', 'Osmancik', 'Cammeo', 'Cammeo',\n",
              "       'Osmancik', 'Cammeo', 'Osmancik', 'Osmancik', 'Osmancik',\n",
              "       'Osmancik', 'Cammeo', 'Cammeo', 'Cammeo', 'Osmancik', 'Cammeo',\n",
              "       'Osmancik', 'Osmancik', 'Osmancik', 'Osmancik', 'Osmancik',\n",
              "       'Osmancik', 'Osmancik', 'Cammeo', 'Cammeo', 'Cammeo', 'Cammeo',\n",
              "       'Osmancik', 'Cammeo', 'Osmancik', 'Osmancik', 'Osmancik',\n",
              "       'Osmancik', 'Osmancik', 'Osmancik', 'Osmancik', 'Osmancik',\n",
              "       'Osmancik', 'Cammeo', 'Osmancik', 'Osmancik', 'Osmancik', 'Cammeo',\n",
              "       'Osmancik', 'Osmancik', 'Osmancik', 'Osmancik', 'Osmancik',\n",
              "       'Osmancik', 'Osmancik', 'Osmancik', 'Cammeo', 'Osmancik', 'Cammeo',\n",
              "       'Osmancik', 'Cammeo', 'Osmancik', 'Cammeo', 'Osmancik', 'Osmancik',\n",
              "       'Osmancik', 'Osmancik', 'Cammeo', 'Osmancik', 'Osmancik', 'Cammeo',\n",
              "       'Cammeo', 'Cammeo', 'Osmancik', 'Cammeo', 'Cammeo', 'Osmancik',\n",
              "       'Osmancik', 'Osmancik', 'Cammeo', 'Cammeo', 'Cammeo', 'Osmancik',\n",
              "       'Osmancik', 'Osmancik', 'Cammeo', 'Osmancik', 'Cammeo', 'Osmancik',\n",
              "       'Osmancik', 'Osmancik', 'Cammeo', 'Osmancik', 'Cammeo', 'Cammeo',\n",
              "       'Osmancik', 'Osmancik', 'Osmancik', 'Osmancik', 'Cammeo', 'Cammeo',\n",
              "       'Osmancik', 'Cammeo', 'Osmancik', 'Osmancik', 'Osmancik', 'Cammeo',\n",
              "       'Osmancik', 'Osmancik', 'Cammeo', 'Cammeo', 'Osmancik'],\n",
              "      dtype='<U8')"
            ]
          },
          "execution_count": 30,
          "metadata": {},
          "output_type": "execute_result"
        }
      ],
      "source": [
        "converted_predictions"
      ]
    },
    {
      "cell_type": "code",
      "execution_count": null,
      "metadata": {},
      "outputs": [
        {
          "name": "stdout",
          "output_type": "stream",
          "text": [
            "Dataset saved to duane_siu-ice-grain-predictions.csv. You can download it from here.\n"
          ]
        }
      ],
      "source": [
        "output_file = \"duane_siu-LogisticRegression-ice-grain-predictions.csv\"\n",
        "predict_holdout = pd.DataFrame(converted_predictions, columns=['predictions'])\n",
        "predict_holdout.to_csv(output_file, index = False)\n",
        "print(f\"Dataset saved to {output_file}. You can download it from here.\")"
      ]
    }
  ],
  "metadata": {
    "colab": {
      "provenance": []
    },
    "kernelspec": {
      "display_name": "Python 3",
      "name": "python3"
    },
    "language_info": {
      "codemirror_mode": {
        "name": "ipython",
        "version": 3
      },
      "file_extension": ".py",
      "mimetype": "text/x-python",
      "name": "python",
      "nbconvert_exporter": "python",
      "pygments_lexer": "ipython3",
      "version": "3.11.0"
    }
  },
  "nbformat": 4,
  "nbformat_minor": 0
}
